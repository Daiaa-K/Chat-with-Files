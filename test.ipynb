{
 "cells": [
  {
   "cell_type": "code",
   "execution_count": 4,
   "id": "51e1dc80",
   "metadata": {},
   "outputs": [],
   "source": [
    "from google import genai\n",
    "import os\n",
    "from dotenv import load_dotenv"
   ]
  },
  {
   "cell_type": "code",
   "execution_count": 10,
   "id": "63c834d7",
   "metadata": {},
   "outputs": [
    {
     "name": "stdout",
     "output_type": "stream",
     "text": [
      "List of models that support generateContent:\n",
      "\n",
      "models/gemini-1.5-pro-latest\n",
      "models/gemini-1.5-pro-002\n",
      "models/gemini-1.5-pro\n",
      "models/gemini-1.5-flash-latest\n",
      "models/gemini-1.5-flash\n",
      "models/gemini-1.5-flash-002\n",
      "models/gemini-1.5-flash-8b\n",
      "models/gemini-1.5-flash-8b-001\n",
      "models/gemini-1.5-flash-8b-latest\n",
      "models/gemini-2.5-pro-preview-03-25\n",
      "models/gemini-2.5-flash-preview-05-20\n",
      "models/gemini-2.5-flash\n",
      "models/gemini-2.5-flash-lite-preview-06-17\n",
      "models/gemini-2.5-pro-preview-05-06\n",
      "models/gemini-2.5-pro-preview-06-05\n",
      "models/gemini-2.5-pro\n",
      "models/gemini-2.0-flash-exp\n",
      "models/gemini-2.0-flash\n",
      "models/gemini-2.0-flash-001\n",
      "models/gemini-2.0-flash-lite-001\n",
      "models/gemini-2.0-flash-lite\n",
      "models/gemini-2.0-flash-lite-preview-02-05\n",
      "models/gemini-2.0-flash-lite-preview\n",
      "models/gemini-2.0-pro-exp\n",
      "models/gemini-2.0-pro-exp-02-05\n",
      "models/gemini-exp-1206\n",
      "models/gemini-2.0-flash-thinking-exp-01-21\n",
      "models/gemini-2.0-flash-thinking-exp\n",
      "models/gemini-2.0-flash-thinking-exp-1219\n",
      "models/gemini-2.5-flash-preview-tts\n",
      "models/gemini-2.5-pro-preview-tts\n",
      "models/learnlm-2.0-flash-experimental\n",
      "models/gemma-3-1b-it\n",
      "models/gemma-3-4b-it\n",
      "models/gemma-3-12b-it\n",
      "models/gemma-3-27b-it\n",
      "models/gemma-3n-e4b-it\n",
      "models/gemma-3n-e2b-it\n",
      "models/gemini-2.5-flash-lite\n",
      "models/gemini-2.5-flash-image-preview\n",
      "\n",
      "List of models that support embedContent:\n",
      "\n",
      "models/embedding-001\n",
      "models/text-embedding-004\n",
      "models/gemini-embedding-exp-03-07\n",
      "models/gemini-embedding-exp\n",
      "models/gemini-embedding-001\n"
     ]
    }
   ],
   "source": [
    "from google import genai\n",
    "\n",
    "client = genai.Client()\n",
    "\n",
    "print(\"List of models that support generateContent:\\n\")\n",
    "for m in client.models.list():\n",
    "    for action in m.supported_actions:\n",
    "        if action == \"generateContent\":\n",
    "            print(m.name)\n",
    "\n",
    "print(\"\\nList of models that support embedContent:\\n\")\n",
    "for m in client.models.list():\n",
    "    for action in m.supported_actions:\n",
    "        if action == \"embedContent\":\n",
    "            print(m.name)"
   ]
  },
  {
   "cell_type": "code",
   "execution_count": 5,
   "id": "a921b80b",
   "metadata": {},
   "outputs": [],
   "source": [
    "_ = load_dotenv(override=True)\n",
    "GOOGLE_API_KEY = os.getenv('GOOGLE_API_KEY')"
   ]
  },
  {
   "cell_type": "code",
   "execution_count": 12,
   "id": "76efef08",
   "metadata": {},
   "outputs": [],
   "source": [
    "client = genai.Client(api_key=GOOGLE_API_KEY)"
   ]
  },
  {
   "cell_type": "code",
   "execution_count": 13,
   "id": "27f64794",
   "metadata": {},
   "outputs": [
    {
     "name": "stdout",
     "output_type": "stream",
     "text": [
      "The sky is blue due to a phenomenon called **Rayleigh scattering**. Here's a breakdown of the explanation:\n",
      "\n",
      "*   **Sunlight:** Sunlight is actually made up of all the colors of the rainbow.\n",
      "\n",
      "*   **Entering the Atmosphere:** When sunlight enters the Earth's atmosphere, it collides with tiny air molecules (mostly nitrogen and oxygen).\n",
      "\n",
      "*   **Scattering:** This collision causes the light to scatter in different directions.\n",
      "\n",
      "*   **Rayleigh Scattering:** Rayleigh scattering is the scattering of electromagnetic radiation (of which light is a form) by particles of a much smaller wavelength.\n",
      "\n",
      "*   **Wavelength Matters:** Shorter wavelengths of light (blue and violet) are scattered more strongly than longer wavelengths (red and orange). The amount of scattering is inversely proportional to the fourth power of the wavelength. This means that blue light is scattered about four times more than red light.\n",
      "\n",
      "*   **Why Not Violet?** Violet light is scattered even more than blue light. However, there are two reasons why the sky appears blue instead of violet:\n",
      "\n",
      "    *   **Sunlight Intensity:** The sun emits slightly less violet light than blue light.\n",
      "    *   **Our Eyes:** Our eyes are also more sensitive to blue light than violet light.\n",
      "\n",
      "*   **The Result:** Because blue light is scattered more and our eyes are more sensitive to it, we see the sky as blue.\n",
      "\n",
      "**In summary:** Shorter wavelengths (blue and violet) of sunlight are scattered more than other colors by the atmosphere. Since our eyes are more sensitive to blue and there's slightly more blue light emitted by the sun, we perceive the sky as blue.\n",
      "\n",
      "**Think of it like this:** Imagine throwing a handful of marbles (blue and red) at a field of tiny pebbles. The smaller blue marbles are more likely to bounce off in different directions than the larger red marbles.\n",
      "\n"
     ]
    }
   ],
   "source": [
    "response = client.models.generate_content(\n",
    "    model='gemini-2.0-flash-001', contents='Why is the sky blue?'\n",
    ")\n",
    "print(response.text)"
   ]
  },
  {
   "cell_type": "code",
   "execution_count": 6,
   "id": "ffa9d92d",
   "metadata": {},
   "outputs": [
    {
     "name": "stderr",
     "output_type": "stream",
     "text": [
      "c:\\Users\\dkotb\\anaconda3\\envs\\Ai_7\\Lib\\site-packages\\tqdm\\auto.py:21: TqdmWarning: IProgress not found. Please update jupyter and ipywidgets. See https://ipywidgets.readthedocs.io/en/stable/user_install.html\n",
      "  from .autonotebook import tqdm as notebook_tqdm\n"
     ]
    }
   ],
   "source": [
    "from langchain_google_genai import ChatGoogleGenerativeAI\n",
    "from langchain.prompts import PromptTemplate\n",
    "from langchain.chains import LLMChain\n",
    "from langchain_core.messages import HumanMessage, SystemMessage"
   ]
  },
  {
   "cell_type": "code",
   "execution_count": 8,
   "id": "abe06fc7",
   "metadata": {},
   "outputs": [
    {
     "name": "stdout",
     "output_type": "stream",
     "text": [
      "The red dust swirls, a cinnamon tide,\n",
      "Beneath a sky where violet hues reside.\n",
      "A thinner air, a sun a weaker gleam,\n",
      "A silent landscape, caught in Martian dream.\n",
      "\n",
      "The Olympus Mons, a titan in the haze,\n",
      "Stands sentinel through aeons, endless days.\n",
      "Valles Marineris, a scar across the face,\n",
      "A whisper of a water-covered space.\n",
      "\n",
      "The rovers rumble, tireless, slow and bold,\n",
      "Unearthing secrets, stories to be told.\n",
      "Of ancient lakes, and maybe, just maybe,\n",
      "A flicker of life, a Martian baby.\n",
      "\n",
      "The habitats hum, a fragile bubble bright,\n",
      "Against the cold, against the endless night.\n",
      "Humans venture, clad in pressurized suits,\n",
      "Planting flags of hope, bearing precious fruits.\n",
      "\n",
      "The hydroponic greens, a vibrant, earthly sight,\n",
      "A promise of sustenance, banishing the blight.\n",
      "Of loneliness and longing, far from home,\n",
      "To build a future, on this rocky loam.\n",
      "\n",
      "We gaze at Earth, a shimmering, blue sphere,\n",
      "A memory cherished, held ever so dear.\n",
      "But Mars beckons, a challenge and a call,\n",
      "To reach for the stars, and give our all.\n",
      "\n",
      "Perhaps one day, green shoots will truly bloom,\n",
      "And break the silence, banish all the gloom.\n",
      "And children laugh, beneath the Martian sun,\n",
      "A new civilization, finally begun.\n"
     ]
    }
   ],
   "source": [
    "llm = ChatGoogleGenerativeAI(model=\"gemini-2.0-flash\",temperature=0.9,)\n",
    "\n",
    "response = llm.invoke(\"write a poem about life on mars\")\n",
    "\n",
    "print(response.content)"
   ]
  },
  {
   "cell_type": "code",
   "execution_count": 7,
   "id": "defa9ab2",
   "metadata": {},
   "outputs": [
    {
     "data": {
      "text/plain": [
       "WindowsPath('G:/depi/technical/projects/Chat-with-CSV')"
      ]
     },
     "execution_count": 7,
     "metadata": {},
     "output_type": "execute_result"
    }
   ],
   "source": [
    "from pathlib import Path\n",
    "\n",
    "BASE_DIR = Path.cwd().resolve()\n",
    "BASE_DIR"
   ]
  }
 ],
 "metadata": {
  "kernelspec": {
   "display_name": "Ai_7",
   "language": "python",
   "name": "python3"
  },
  "language_info": {
   "codemirror_mode": {
    "name": "ipython",
    "version": 3
   },
   "file_extension": ".py",
   "mimetype": "text/x-python",
   "name": "python",
   "nbconvert_exporter": "python",
   "pygments_lexer": "ipython3",
   "version": "3.12.9"
  }
 },
 "nbformat": 4,
 "nbformat_minor": 5
}
